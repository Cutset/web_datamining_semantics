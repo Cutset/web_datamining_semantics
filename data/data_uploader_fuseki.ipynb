{
 "cells": [
  {
   "cell_type": "code",
   "execution_count": 164,
   "metadata": {},
   "outputs": [],
   "source": [
    "import requests\n",
    "import pandas as pd"
   ]
  },
  {
   "cell_type": "code",
   "execution_count": 34,
   "metadata": {},
   "outputs": [],
   "source": [
    "URL_SERVER = \"http://localhost:3030\"\n",
    "URL_DATASET = URL_SERVER+\"/final_project\"\n",
    "URL_GRAPHSTORE = URL_DATASET+\"/data\"\n",
    "URL_QUERY = URL_DATASET + \"/sparql\""
   ]
  },
  {
   "cell_type": "code",
   "execution_count": 71,
   "metadata": {},
   "outputs": [],
   "source": [
    "def ontology_uploader(file):\n",
    "    data_ttl = open(file).read()\n",
    "    res = requests.post(URL_GRAPHSTORE, data=data_ttl, headers={'Content-Type': 'text/turtle'})\n",
    "    print(\"req\", res)\n",
    "    if res.status_code != 204:\n",
    "        res.raise_for_status()\n",
    "    else:\n",
    "        print(\"Status response\",res)"
   ]
  },
  {
   "cell_type": "code",
   "execution_count": 68,
   "metadata": {},
   "outputs": [],
   "source": [
    "def json_uploader(file):\n",
    "    data_json = open(file).read()\n",
    "    res = requests.post(URL_GRAPHSTORE, data=data_json, headers={'Content-Type': 'application/ld+json'})\n",
    "    #checking if the file was uploaded correctly:\n",
    "    if res.status_code != 204 and res.status_code != 200:\n",
    "        res.raise_for_status()\n",
    "    else:\n",
    "        print(\"Status response\",res,file,\"correctly uploaded !\")\n",
    "        \n",
    "    return res"
   ]
  },
  {
   "cell_type": "code",
   "execution_count": 54,
   "metadata": {},
   "outputs": [],
   "source": [
    "def CleanDB():\n",
    "    query = \"\"\"\n",
    "        PREFIX rdf: <http://www.w3.org/1999/02/22-rdf-syntax-ns#>\n",
    "        PREFIX ns: <http://www.owl-ontologies.com/unnamed.owl#> \n",
    "        DELETE\n",
    "        {\n",
    "            ?s ?p ?o\n",
    "        }\n",
    "        WHERE\n",
    "        {\n",
    "            ?s ?p ?o\n",
    "        }\n",
    "    \"\"\"\n",
    "    res = requests.post(URL_DATASET, data=query, headers={'Content-type': 'application/sparql-update'})\n",
    "    \n",
    "    #checking if the file was uploaded correctly:\n",
    "    if res.status_code != 204 :\n",
    "        res.raise_for_status()\n",
    "    else:\n",
    "        print(\"Status response\",res)\n",
    "        print(\"Dataset correctly cleared !\")\n",
    "    \n",
    "    return res\n",
    "    \n"
   ]
  },
  {
   "cell_type": "code",
   "execution_count": 122,
   "metadata": {},
   "outputs": [],
   "source": [
    "def find(query):\n",
    "    result = requests.post(URL_QUERY, data=query, headers={'Content-type': 'application/sparql-query'})\n",
    "    \n",
    "    if result.status_code != 204 :\n",
    "        result.raise_for_status()\n",
    "    else:\n",
    "        print(\"Status response\",result)\n",
    "        print(\"Dataset correctly cleared !\")\n",
    "\n",
    "    return result"
   ]
  },
  {
   "cell_type": "code",
   "execution_count": 86,
   "metadata": {},
   "outputs": [],
   "source": [
    "def main():\n",
    "    \n",
    "    CleanDB()\n",
    "\n",
    "    ontology_uploader(\"D:/ESILV_Cours/S8/Datamining_Semantics/ProjetFinal/ontology/ontology_projet_final.ttl\")\n",
    "\n",
    "    json_uploader(\"monuments.jsonld\")\n",
    "    json_uploader(\"velo.jsonld\") #dynamic values\n",
    "    json_uploader(\"musees.jsonld\")"
   ]
  },
  {
   "cell_type": "code",
   "execution_count": 87,
   "metadata": {},
   "outputs": [
    {
     "name": "stdout",
     "output_type": "stream",
     "text": [
      "Status response <Response [204]>\n",
      "Dataset correctly cleared !\n",
      "req <Response [200]>\n",
      "Status response <Response [200]> monuments.jsonld correctly uploaded !\n",
      "Status response <Response [200]> velo.jsonld correctly uploaded !\n",
      "Status response <Response [200]> musees.jsonld correctly uploaded !\n"
     ]
    }
   ],
   "source": [
    "main()\n",
    "#CleanDB()"
   ]
  },
  {
   "cell_type": "code",
   "execution_count": 123,
   "metadata": {},
   "outputs": [],
   "source": [
    "def query_to_df(query):\n",
    "    data = find(query).json()\n",
    "    l = []\n",
    "    for elem in data[\"results\"][\"bindings\"]:\n",
    "        d = {}\n",
    "        for k,v in elem.items():\n",
    "            d[k] = v[\"value\"]\n",
    "        l.append(d)\n",
    "    return pd.DataFrame(l)\n",
    "    "
   ]
  },
  {
   "cell_type": "code",
   "execution_count": 161,
   "metadata": {},
   "outputs": [],
   "source": [
    "def query_bool(query):\n",
    "    data = find(query)\n",
    "    return data.json()[\"boolean\"]"
   ]
  },
  {
   "cell_type": "code",
   "execution_count": 155,
   "metadata": {},
   "outputs": [],
   "source": [
    "def query_string(query):\n",
    "    data = find(query)\n",
    "    return str(data.content).split('\\\\n')"
   ]
  },
  {
   "cell_type": "code",
   "execution_count": 165,
   "metadata": {},
   "outputs": [],
   "source": [
    "query = \"\"\"PREFIX j.0: <http://www.owl-ontologies.com/unnamed.owl#>\n",
    "SELECT ?nom_musee ?adresse_musee WHERE { ?subject j.0:nom_musee ?nom_musee;\n",
    "j.0:adresse_musee ?adresse_musee }\n",
    "\"\"\"\n",
    "query2 = \"\"\"PREFIX p: <http://www.owl-ontologies.com/unnamed.owl#>\n",
    "DESCRIBE ?subject WHERE {?subject p:id_velo \"10111\"}\n",
    "\"\"\"\n",
    "query3 = \"\"\"PREFIX j.0: <http://www.owl-ontologies.com/unnamed.owl#>\n",
    "ASK {?subject j.0:nom_mon \"Maison Renaissance\" ; j.0:historique ?historique}\"\"\"\n",
    "a = query_to_df(query)"
   ]
  },
  {
   "cell_type": "code",
   "execution_count": 168,
   "metadata": {},
   "outputs": [
    {
     "data": {
      "text/plain": [
       "['musée des beaux-arts',\n",
       " 'musée Gadagne',\n",
       " 'musée Guimet',\n",
       " 'musée des arts décoratifs',\n",
       " \"muséum d'histoire naturelle\",\n",
       " \"centre d'histoire de la résistance\",\n",
       " 'Lugdunum, musée et théâtres romains',\n",
       " 'musée historique des tissus',\n",
       " 'musée des hospices civils de Lyon',\n",
       " 'musée des Confluences',\n",
       " \"musée d'art contemporain\",\n",
       " 'musée des sapeurs-pompiers de Lyon',\n",
       " \"musée de l'imprimerie et de la communication graphique\"]"
      ]
     },
     "execution_count": 168,
     "metadata": {},
     "output_type": "execute_result"
    }
   ],
   "source": [
    "list(a.iloc[:,0])"
   ]
  },
  {
   "cell_type": "code",
   "execution_count": null,
   "metadata": {},
   "outputs": [],
   "source": []
  }
 ],
 "metadata": {
  "interpreter": {
   "hash": "07efdcd4b820c98a756949507a4d29d7862823915ec7477944641bea022f4f62"
  },
  "kernelspec": {
   "display_name": "Python 3.8.12 ('base')",
   "language": "python",
   "name": "python3"
  },
  "language_info": {
   "codemirror_mode": {
    "name": "ipython",
    "version": 3
   },
   "file_extension": ".py",
   "mimetype": "text/x-python",
   "name": "python",
   "nbconvert_exporter": "python",
   "pygments_lexer": "ipython3",
   "version": "3.8.12"
  },
  "orig_nbformat": 4
 },
 "nbformat": 4,
 "nbformat_minor": 2
}
